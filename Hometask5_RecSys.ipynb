{
 "cells": [
  {
   "cell_type": "markdown",
   "metadata": {
    "id": "ef6180WvQbD-"
   },
   "source": [
    "# Введение\n",
    "\n",
    "В этом задании Вы продолжите работать с данными из семинара [Articles Sharing and Reading from CI&T Deskdrop](https://www.kaggle.com/gspmoreira/articles-sharing-reading-from-cit-deskdrop)."
   ]
  },
  {
   "cell_type": "markdown",
   "metadata": {
    "id": "nSV_mxD9TciM"
   },
   "source": [
    "# Загрузка и предобработка данных"
   ]
  },
  {
   "cell_type": "code",
   "execution_count": 116,
   "metadata": {
    "id": "M5mH3ZolSlcm"
   },
   "outputs": [],
   "source": [
    "import math\n",
    "import numpy as np\n",
    "import pandas as pd\n",
    "from scipy import sparse\n",
    "from lightfm import LightFM\n",
    "from lightfm.evaluation import precision_at_k\n",
    "from tqdm import tqdm\n",
    "from sklearn.feature_extraction.text import TfidfVectorizer"
   ]
  },
  {
   "cell_type": "markdown",
   "metadata": {
    "id": "PRQVuRvER0hd"
   },
   "source": [
    "Загрузим данные и проведем предобраотку данных как на семинаре."
   ]
  },
  {
   "cell_type": "code",
   "execution_count": 2,
   "metadata": {
    "collapsed": true,
    "id": "8E837g9kQTbb",
    "jupyter": {
     "outputs_hidden": true
    },
    "tags": []
   },
   "outputs": [
    {
     "name": "stdout",
     "output_type": "stream",
     "text": [
      "Traceback (most recent call last):\n",
      "  File \"/home/dinara/anaconda3/bin/kaggle\", line 5, in <module>\n",
      "    from kaggle.cli import main\n",
      "  File \"/home/dinara/anaconda3/lib/python3.9/site-packages/kaggle/__init__.py\", line 23, in <module>\n",
      "    api.authenticate()\n",
      "  File \"/home/dinara/anaconda3/lib/python3.9/site-packages/kaggle/api/kaggle_api_extended.py\", line 164, in authenticate\n",
      "    raise IOError('Could not find {}. Make sure it\\'s located in'\n",
      "OSError: Could not find kaggle.json. Make sure it's located in /home/dinara/.kaggle. Or use the environment method.\n",
      "unzip:  cannot find or open articles-sharing-reading-from-cit-deskdrop.zip, articles-sharing-reading-from-cit-deskdrop.zip.zip or articles-sharing-reading-from-cit-deskdrop.zip.ZIP.\n"
     ]
    }
   ],
   "source": [
    "!kaggle datasets download -d gspmoreira/articles-sharing-reading-from-cit-deskdrop\n",
    "!unzip articles-sharing-reading-from-cit-deskdrop.zip -d articles"
   ]
  },
  {
   "cell_type": "code",
   "execution_count": 2,
   "metadata": {
    "id": "hdM1xSchR9jt"
   },
   "outputs": [
    {
     "data": {
      "text/html": [
       "<div>\n",
       "<style scoped>\n",
       "    .dataframe tbody tr th:only-of-type {\n",
       "        vertical-align: middle;\n",
       "    }\n",
       "\n",
       "    .dataframe tbody tr th {\n",
       "        vertical-align: top;\n",
       "    }\n",
       "\n",
       "    .dataframe thead th {\n",
       "        text-align: right;\n",
       "    }\n",
       "</style>\n",
       "<table border=\"1\" class=\"dataframe\">\n",
       "  <thead>\n",
       "    <tr style=\"text-align: right;\">\n",
       "      <th></th>\n",
       "      <th>timestamp</th>\n",
       "      <th>eventType</th>\n",
       "      <th>contentId</th>\n",
       "      <th>authorPersonId</th>\n",
       "      <th>authorSessionId</th>\n",
       "      <th>authorUserAgent</th>\n",
       "      <th>authorRegion</th>\n",
       "      <th>authorCountry</th>\n",
       "      <th>contentType</th>\n",
       "      <th>url</th>\n",
       "      <th>title</th>\n",
       "      <th>text</th>\n",
       "      <th>lang</th>\n",
       "    </tr>\n",
       "  </thead>\n",
       "  <tbody>\n",
       "    <tr>\n",
       "      <th>1</th>\n",
       "      <td>1459193988</td>\n",
       "      <td>CONTENT SHARED</td>\n",
       "      <td>-4110354420726924665</td>\n",
       "      <td>4340306774493623681</td>\n",
       "      <td>8940341205206233829</td>\n",
       "      <td>NaN</td>\n",
       "      <td>NaN</td>\n",
       "      <td>NaN</td>\n",
       "      <td>HTML</td>\n",
       "      <td>http://www.nytimes.com/2016/03/28/business/dea...</td>\n",
       "      <td>Ethereum, a Virtual Currency, Enables Transact...</td>\n",
       "      <td>All of this work is still very early. The firs...</td>\n",
       "      <td>en</td>\n",
       "    </tr>\n",
       "    <tr>\n",
       "      <th>2</th>\n",
       "      <td>1459194146</td>\n",
       "      <td>CONTENT SHARED</td>\n",
       "      <td>-7292285110016212249</td>\n",
       "      <td>4340306774493623681</td>\n",
       "      <td>8940341205206233829</td>\n",
       "      <td>NaN</td>\n",
       "      <td>NaN</td>\n",
       "      <td>NaN</td>\n",
       "      <td>HTML</td>\n",
       "      <td>http://cointelegraph.com/news/bitcoin-future-w...</td>\n",
       "      <td>Bitcoin Future: When GBPcoin of Branson Wins O...</td>\n",
       "      <td>The alarm clock wakes me at 8:00 with stream o...</td>\n",
       "      <td>en</td>\n",
       "    </tr>\n",
       "  </tbody>\n",
       "</table>\n",
       "</div>"
      ],
      "text/plain": [
       "    timestamp       eventType            contentId       authorPersonId  \\\n",
       "1  1459193988  CONTENT SHARED -4110354420726924665  4340306774493623681   \n",
       "2  1459194146  CONTENT SHARED -7292285110016212249  4340306774493623681   \n",
       "\n",
       "       authorSessionId authorUserAgent authorRegion authorCountry contentType  \\\n",
       "1  8940341205206233829             NaN          NaN           NaN        HTML   \n",
       "2  8940341205206233829             NaN          NaN           NaN        HTML   \n",
       "\n",
       "                                                 url  \\\n",
       "1  http://www.nytimes.com/2016/03/28/business/dea...   \n",
       "2  http://cointelegraph.com/news/bitcoin-future-w...   \n",
       "\n",
       "                                               title  \\\n",
       "1  Ethereum, a Virtual Currency, Enables Transact...   \n",
       "2  Bitcoin Future: When GBPcoin of Branson Wins O...   \n",
       "\n",
       "                                                text lang  \n",
       "1  All of this work is still very early. The firs...   en  \n",
       "2  The alarm clock wakes me at 8:00 with stream o...   en  "
      ]
     },
     "execution_count": 2,
     "metadata": {},
     "output_type": "execute_result"
    }
   ],
   "source": [
    "articles_df = pd.read_csv(\"articles/shared_articles.csv\")\n",
    "articles_df = articles_df[articles_df[\"eventType\"] == \"CONTENT SHARED\"]\n",
    "articles_df.head(2)"
   ]
  },
  {
   "cell_type": "code",
   "execution_count": 3,
   "metadata": {
    "id": "KK9wMAkvSjbk"
   },
   "outputs": [
    {
     "data": {
      "text/html": [
       "<div>\n",
       "<style scoped>\n",
       "    .dataframe tbody tr th:only-of-type {\n",
       "        vertical-align: middle;\n",
       "    }\n",
       "\n",
       "    .dataframe tbody tr th {\n",
       "        vertical-align: top;\n",
       "    }\n",
       "\n",
       "    .dataframe thead th {\n",
       "        text-align: right;\n",
       "    }\n",
       "</style>\n",
       "<table border=\"1\" class=\"dataframe\">\n",
       "  <thead>\n",
       "    <tr style=\"text-align: right;\">\n",
       "      <th></th>\n",
       "      <th>timestamp</th>\n",
       "      <th>eventType</th>\n",
       "      <th>contentId</th>\n",
       "      <th>personId</th>\n",
       "      <th>sessionId</th>\n",
       "      <th>userAgent</th>\n",
       "      <th>userRegion</th>\n",
       "      <th>userCountry</th>\n",
       "    </tr>\n",
       "  </thead>\n",
       "  <tbody>\n",
       "    <tr>\n",
       "      <th>0</th>\n",
       "      <td>1465413032</td>\n",
       "      <td>VIEW</td>\n",
       "      <td>-3499919498720038879</td>\n",
       "      <td>-8845298781299428018</td>\n",
       "      <td>1264196770339959068</td>\n",
       "      <td>NaN</td>\n",
       "      <td>NaN</td>\n",
       "      <td>NaN</td>\n",
       "    </tr>\n",
       "    <tr>\n",
       "      <th>1</th>\n",
       "      <td>1465412560</td>\n",
       "      <td>VIEW</td>\n",
       "      <td>8890720798209849691</td>\n",
       "      <td>-1032019229384696495</td>\n",
       "      <td>3621737643587579081</td>\n",
       "      <td>Mozilla/5.0 (Macintosh; Intel Mac OS X 10_11_2...</td>\n",
       "      <td>NY</td>\n",
       "      <td>US</td>\n",
       "    </tr>\n",
       "  </tbody>\n",
       "</table>\n",
       "</div>"
      ],
      "text/plain": [
       "    timestamp eventType            contentId             personId  \\\n",
       "0  1465413032      VIEW -3499919498720038879 -8845298781299428018   \n",
       "1  1465412560      VIEW  8890720798209849691 -1032019229384696495   \n",
       "\n",
       "             sessionId                                          userAgent  \\\n",
       "0  1264196770339959068                                                NaN   \n",
       "1  3621737643587579081  Mozilla/5.0 (Macintosh; Intel Mac OS X 10_11_2...   \n",
       "\n",
       "  userRegion userCountry  \n",
       "0        NaN         NaN  \n",
       "1         NY          US  "
      ]
     },
     "execution_count": 3,
     "metadata": {},
     "output_type": "execute_result"
    }
   ],
   "source": [
    "interactions_df = pd.read_csv(\"articles/users_interactions.csv\")\n",
    "interactions_df.head(2)"
   ]
  },
  {
   "cell_type": "code",
   "execution_count": 4,
   "metadata": {
    "id": "5nQScdSTTzNG"
   },
   "outputs": [],
   "source": [
    "interactions_df.personId = interactions_df.personId.astype(str)\n",
    "interactions_df.contentId = interactions_df.contentId.astype(str)\n",
    "articles_df.contentId = articles_df.contentId.astype(str)"
   ]
  },
  {
   "cell_type": "code",
   "execution_count": 5,
   "metadata": {
    "id": "eu6R9rDQT2P4"
   },
   "outputs": [],
   "source": [
    "# зададим словарь определяющий силу взаимодействия\n",
    "event_type_strength = {\n",
    "    \"VIEW\": 1.0,\n",
    "    \"LIKE\": 2.0,\n",
    "    \"BOOKMARK\": 2.5,\n",
    "    \"FOLLOW\": 3.0,\n",
    "    \"COMMENT CREATED\": 4.0,\n",
    "}\n",
    "\n",
    "interactions_df[\"eventStrength\"] = interactions_df.eventType.apply(\n",
    "    lambda x: event_type_strength[x]\n",
    ")"
   ]
  },
  {
   "cell_type": "markdown",
   "metadata": {
    "id": "ATO5PRRwUkQ0"
   },
   "source": [
    "Оставляем только тех пользователей, которые провзамодействовали более чем с пятью статьями."
   ]
  },
  {
   "cell_type": "code",
   "execution_count": 10,
   "metadata": {
    "id": "d-0HoboYUBm5"
   },
   "outputs": [
    {
     "name": "stdout",
     "output_type": "stream",
     "text": [
      "# users: 1895\n",
      "# users with at least 5 interactions: 1140\n"
     ]
    }
   ],
   "source": [
    "users_interactions_count_df = (\n",
    "    interactions_df.groupby([\"personId\", \"contentId\"])\n",
    "    .first()\n",
    "    .reset_index()\n",
    "    .groupby(\"personId\")\n",
    "    .size()\n",
    ")\n",
    "print(\"# users:\", len(users_interactions_count_df))\n",
    "\n",
    "users_with_enough_interactions_df = users_interactions_count_df[\n",
    "    users_interactions_count_df >= 5\n",
    "].reset_index()[[\"personId\"]]\n",
    "print(\"# users with at least 5 interactions:\", len(users_with_enough_interactions_df))"
   ]
  },
  {
   "cell_type": "markdown",
   "metadata": {
    "id": "gQagI3DHUuX5"
   },
   "source": [
    "Оставляем только те взаимодействия, которые относятся к отфильтрованным пользователям."
   ]
  },
  {
   "cell_type": "code",
   "execution_count": 11,
   "metadata": {
    "id": "34rrdGdpUFgk"
   },
   "outputs": [],
   "source": [
    "interactions_from_selected_users_df = interactions_df.loc[\n",
    "    np.in1d(interactions_df.personId, users_with_enough_interactions_df)\n",
    "]"
   ]
  },
  {
   "cell_type": "code",
   "execution_count": 12,
   "metadata": {
    "id": "Hd3VS_BgU9HN"
   },
   "outputs": [
    {
     "name": "stdout",
     "output_type": "stream",
     "text": [
      "# interactions before: (72312, 9)\n",
      "# interactions after: (69868, 9)\n"
     ]
    }
   ],
   "source": [
    "print(f\"# interactions before: {interactions_df.shape}\")\n",
    "print(f\"# interactions after: {interactions_from_selected_users_df.shape}\")"
   ]
  },
  {
   "cell_type": "markdown",
   "metadata": {
    "id": "FYpRiFkQVR6B"
   },
   "source": [
    "Объединяем все взаимодействия пользователя по каждой статье и сглаживаем полученный результат, взяв от него логарифм."
   ]
  },
  {
   "cell_type": "code",
   "execution_count": 13,
   "metadata": {
    "id": "mtPtAehKVEUu"
   },
   "outputs": [
    {
     "data": {
      "text/html": [
       "<div>\n",
       "<style scoped>\n",
       "    .dataframe tbody tr th:only-of-type {\n",
       "        vertical-align: middle;\n",
       "    }\n",
       "\n",
       "    .dataframe tbody tr th {\n",
       "        vertical-align: top;\n",
       "    }\n",
       "\n",
       "    .dataframe thead th {\n",
       "        text-align: right;\n",
       "    }\n",
       "</style>\n",
       "<table border=\"1\" class=\"dataframe\">\n",
       "  <thead>\n",
       "    <tr style=\"text-align: right;\">\n",
       "      <th></th>\n",
       "      <th>personId</th>\n",
       "      <th>contentId</th>\n",
       "      <th>eventStrength</th>\n",
       "      <th>last_timestamp</th>\n",
       "    </tr>\n",
       "  </thead>\n",
       "  <tbody>\n",
       "    <tr>\n",
       "      <th>0</th>\n",
       "      <td>-1007001694607905623</td>\n",
       "      <td>-5065077552540450930</td>\n",
       "      <td>1.000000</td>\n",
       "      <td>1470395911</td>\n",
       "    </tr>\n",
       "    <tr>\n",
       "      <th>1</th>\n",
       "      <td>-1007001694607905623</td>\n",
       "      <td>-6623581327558800021</td>\n",
       "      <td>1.000000</td>\n",
       "      <td>1487240080</td>\n",
       "    </tr>\n",
       "    <tr>\n",
       "      <th>2</th>\n",
       "      <td>-1007001694607905623</td>\n",
       "      <td>-793729620925729327</td>\n",
       "      <td>1.000000</td>\n",
       "      <td>1472834892</td>\n",
       "    </tr>\n",
       "    <tr>\n",
       "      <th>3</th>\n",
       "      <td>-1007001694607905623</td>\n",
       "      <td>1469580151036142903</td>\n",
       "      <td>1.000000</td>\n",
       "      <td>1487240062</td>\n",
       "    </tr>\n",
       "    <tr>\n",
       "      <th>4</th>\n",
       "      <td>-1007001694607905623</td>\n",
       "      <td>7270966256391553686</td>\n",
       "      <td>1.584963</td>\n",
       "      <td>1485994324</td>\n",
       "    </tr>\n",
       "  </tbody>\n",
       "</table>\n",
       "</div>"
      ],
      "text/plain": [
       "               personId             contentId  eventStrength  last_timestamp\n",
       "0  -1007001694607905623  -5065077552540450930       1.000000      1470395911\n",
       "1  -1007001694607905623  -6623581327558800021       1.000000      1487240080\n",
       "2  -1007001694607905623   -793729620925729327       1.000000      1472834892\n",
       "3  -1007001694607905623   1469580151036142903       1.000000      1487240062\n",
       "4  -1007001694607905623   7270966256391553686       1.584963      1485994324"
      ]
     },
     "execution_count": 13,
     "metadata": {},
     "output_type": "execute_result"
    }
   ],
   "source": [
    "def smooth_user_preference(x):\n",
    "    return math.log(1 + x, 2)\n",
    "\n",
    "\n",
    "interactions_full_df = (\n",
    "    interactions_from_selected_users_df.groupby([\"personId\", \"contentId\"])\n",
    "    .eventStrength.sum()\n",
    "    .apply(smooth_user_preference)\n",
    "    .reset_index()\n",
    "    .set_index([\"personId\", \"contentId\"])\n",
    ")\n",
    "interactions_full_df[\"last_timestamp\"] = interactions_from_selected_users_df.groupby(\n",
    "    [\"personId\", \"contentId\"]\n",
    ")[\"timestamp\"].last()\n",
    "\n",
    "interactions_full_df = interactions_full_df.reset_index()\n",
    "interactions_full_df.head(5)"
   ]
  },
  {
   "cell_type": "markdown",
   "metadata": {
    "id": "ODJYMtnNWM5w"
   },
   "source": [
    "Разобьём выборку на обучение и контроль по времени."
   ]
  },
  {
   "cell_type": "code",
   "execution_count": 18,
   "metadata": {
    "id": "3F2CfAwoVrfo"
   },
   "outputs": [
    {
     "name": "stdout",
     "output_type": "stream",
     "text": [
      "# interactions on Train set: 29329\n",
      "# interactions on Test set: 9777\n"
     ]
    },
    {
     "data": {
      "text/html": [
       "<div>\n",
       "<style scoped>\n",
       "    .dataframe tbody tr th:only-of-type {\n",
       "        vertical-align: middle;\n",
       "    }\n",
       "\n",
       "    .dataframe tbody tr th {\n",
       "        vertical-align: top;\n",
       "    }\n",
       "\n",
       "    .dataframe thead th {\n",
       "        text-align: right;\n",
       "    }\n",
       "</style>\n",
       "<table border=\"1\" class=\"dataframe\">\n",
       "  <thead>\n",
       "    <tr style=\"text-align: right;\">\n",
       "      <th></th>\n",
       "      <th>personId</th>\n",
       "      <th>contentId</th>\n",
       "      <th>eventStrength</th>\n",
       "      <th>last_timestamp</th>\n",
       "    </tr>\n",
       "  </thead>\n",
       "  <tbody>\n",
       "    <tr>\n",
       "      <th>0</th>\n",
       "      <td>-1007001694607905623</td>\n",
       "      <td>-5065077552540450930</td>\n",
       "      <td>1.0</td>\n",
       "      <td>1470395911</td>\n",
       "    </tr>\n",
       "    <tr>\n",
       "      <th>2</th>\n",
       "      <td>-1007001694607905623</td>\n",
       "      <td>-793729620925729327</td>\n",
       "      <td>1.0</td>\n",
       "      <td>1472834892</td>\n",
       "    </tr>\n",
       "    <tr>\n",
       "      <th>6</th>\n",
       "      <td>-1032019229384696495</td>\n",
       "      <td>-1006791494035379303</td>\n",
       "      <td>1.0</td>\n",
       "      <td>1469129122</td>\n",
       "    </tr>\n",
       "    <tr>\n",
       "      <th>7</th>\n",
       "      <td>-1032019229384696495</td>\n",
       "      <td>-1039912738963181810</td>\n",
       "      <td>1.0</td>\n",
       "      <td>1459376415</td>\n",
       "    </tr>\n",
       "    <tr>\n",
       "      <th>8</th>\n",
       "      <td>-1032019229384696495</td>\n",
       "      <td>-1081723567492738167</td>\n",
       "      <td>2.0</td>\n",
       "      <td>1464054093</td>\n",
       "    </tr>\n",
       "    <tr>\n",
       "      <th>...</th>\n",
       "      <td>...</td>\n",
       "      <td>...</td>\n",
       "      <td>...</td>\n",
       "      <td>...</td>\n",
       "    </tr>\n",
       "    <tr>\n",
       "      <th>39099</th>\n",
       "      <td>997469202936578234</td>\n",
       "      <td>9112765177685685246</td>\n",
       "      <td>2.0</td>\n",
       "      <td>1472479493</td>\n",
       "    </tr>\n",
       "    <tr>\n",
       "      <th>39100</th>\n",
       "      <td>998688566268269815</td>\n",
       "      <td>-1255189867397298842</td>\n",
       "      <td>1.0</td>\n",
       "      <td>1474567164</td>\n",
       "    </tr>\n",
       "    <tr>\n",
       "      <th>39101</th>\n",
       "      <td>998688566268269815</td>\n",
       "      <td>-401664538366009049</td>\n",
       "      <td>1.0</td>\n",
       "      <td>1474567449</td>\n",
       "    </tr>\n",
       "    <tr>\n",
       "      <th>39103</th>\n",
       "      <td>998688566268269815</td>\n",
       "      <td>6881796783400625893</td>\n",
       "      <td>1.0</td>\n",
       "      <td>1474567675</td>\n",
       "    </tr>\n",
       "    <tr>\n",
       "      <th>39105</th>\n",
       "      <td>998688566268269815</td>\n",
       "      <td>739747367187387064</td>\n",
       "      <td>1.0</td>\n",
       "      <td>1474567514</td>\n",
       "    </tr>\n",
       "  </tbody>\n",
       "</table>\n",
       "<p>29329 rows × 4 columns</p>\n",
       "</div>"
      ],
      "text/plain": [
       "                   personId             contentId  eventStrength  \\\n",
       "0      -1007001694607905623  -5065077552540450930            1.0   \n",
       "2      -1007001694607905623   -793729620925729327            1.0   \n",
       "6      -1032019229384696495  -1006791494035379303            1.0   \n",
       "7      -1032019229384696495  -1039912738963181810            1.0   \n",
       "8      -1032019229384696495  -1081723567492738167            2.0   \n",
       "...                     ...                   ...            ...   \n",
       "39099    997469202936578234   9112765177685685246            2.0   \n",
       "39100    998688566268269815  -1255189867397298842            1.0   \n",
       "39101    998688566268269815   -401664538366009049            1.0   \n",
       "39103    998688566268269815   6881796783400625893            1.0   \n",
       "39105    998688566268269815    739747367187387064            1.0   \n",
       "\n",
       "       last_timestamp  \n",
       "0          1470395911  \n",
       "2          1472834892  \n",
       "6          1469129122  \n",
       "7          1459376415  \n",
       "8          1464054093  \n",
       "...               ...  \n",
       "39099      1472479493  \n",
       "39100      1474567164  \n",
       "39101      1474567449  \n",
       "39103      1474567675  \n",
       "39105      1474567514  \n",
       "\n",
       "[29329 rows x 4 columns]"
      ]
     },
     "execution_count": 18,
     "metadata": {},
     "output_type": "execute_result"
    }
   ],
   "source": [
    "from sklearn.model_selection import train_test_split\n",
    "\n",
    "split_ts = 1475519530\n",
    "interactions_train_df = interactions_full_df.loc[\n",
    "    interactions_full_df.last_timestamp < split_ts\n",
    "].copy()\n",
    "interactions_test_df = interactions_full_df.loc[\n",
    "    interactions_full_df.last_timestamp >= split_ts\n",
    "].copy()\n",
    "\n",
    "print(f\"# interactions on Train set: {len(interactions_train_df)}\")\n",
    "print(f\"# interactions on Test set: {len(interactions_test_df)}\")\n",
    "\n",
    "interactions_train_df"
   ]
  },
  {
   "cell_type": "markdown",
   "metadata": {
    "id": "h5G3FTYOXLVg"
   },
   "source": [
    "Для удобства подсчёта качества запишем данные в формате, где строка соответствует пользователю, а столбцы будут истинными метками и предсказаниями в виде списков."
   ]
  },
  {
   "cell_type": "code",
   "execution_count": 19,
   "metadata": {
    "id": "RT-_toqfXOa2"
   },
   "outputs": [
    {
     "data": {
      "text/html": [
       "<div>\n",
       "<style scoped>\n",
       "    .dataframe tbody tr th:only-of-type {\n",
       "        vertical-align: middle;\n",
       "    }\n",
       "\n",
       "    .dataframe tbody tr th {\n",
       "        vertical-align: top;\n",
       "    }\n",
       "\n",
       "    .dataframe thead th {\n",
       "        text-align: right;\n",
       "    }\n",
       "</style>\n",
       "<table border=\"1\" class=\"dataframe\">\n",
       "  <thead>\n",
       "    <tr style=\"text-align: right;\">\n",
       "      <th></th>\n",
       "      <th>true_train</th>\n",
       "      <th>true_test</th>\n",
       "    </tr>\n",
       "    <tr>\n",
       "      <th>personId</th>\n",
       "      <th></th>\n",
       "      <th></th>\n",
       "    </tr>\n",
       "  </thead>\n",
       "  <tbody>\n",
       "    <tr>\n",
       "      <th>-1007001694607905623</th>\n",
       "      <td>[-5065077552540450930, -793729620925729327]</td>\n",
       "      <td>[-6623581327558800021, 1469580151036142903, 72...</td>\n",
       "    </tr>\n",
       "  </tbody>\n",
       "</table>\n",
       "</div>"
      ],
      "text/plain": [
       "                                                       true_train  \\\n",
       "personId                                                            \n",
       "-1007001694607905623  [-5065077552540450930, -793729620925729327]   \n",
       "\n",
       "                                                              true_test  \n",
       "personId                                                                 \n",
       "-1007001694607905623  [-6623581327558800021, 1469580151036142903, 72...  "
      ]
     },
     "execution_count": 19,
     "metadata": {},
     "output_type": "execute_result"
    }
   ],
   "source": [
    "interactions = (\n",
    "    interactions_train_df.groupby(\"personId\")[\"contentId\"]\n",
    "    .agg(lambda x: list(x))\n",
    "    .reset_index()\n",
    "    .rename(columns={\"contentId\": \"true_train\"})\n",
    "    .set_index(\"personId\")\n",
    ")\n",
    "\n",
    "interactions[\"true_test\"] = interactions_test_df.groupby(\"personId\")[\"contentId\"].agg(\n",
    "    lambda x: list(x)\n",
    ")\n",
    "\n",
    "# заполнение пропусков пустыми списками\n",
    "interactions.loc[pd.isnull(interactions.true_test), \"true_test\"] = [\n",
    "    \"\"\n",
    "    for x in range(\n",
    "        len(interactions.loc[pd.isnull(interactions.true_test), \"true_test\"])\n",
    "    )\n",
    "]\n",
    "\n",
    "interactions.head(1)"
   ]
  },
  {
   "cell_type": "markdown",
   "metadata": {
    "id": "-UWDyWKsamSa"
   },
   "source": [
    "# Библиотека LightFM"
   ]
  },
  {
   "cell_type": "markdown",
   "metadata": {
    "id": "L-iXjvdZa25Z"
   },
   "source": [
    "Для рекомендации Вы будете пользоваться библиотекой [LightFM](https://making.lyst.com/lightfm/docs/home.html), в которой реализованы популярные алгоритмы. Для оценивания качества рекомендации, как и на семинаре, будем пользоваться метрикой *precision@10*."
   ]
  },
  {
   "cell_type": "code",
   "execution_count": 13,
   "metadata": {
    "collapsed": true,
    "id": "GE_chrYN2lNw",
    "jupyter": {
     "outputs_hidden": true
    },
    "tags": []
   },
   "outputs": [
    {
     "name": "stdout",
     "output_type": "stream",
     "text": [
      "Collecting lightfm\n",
      "  Downloading lightfm-1.17.tar.gz (316 kB)\n",
      "\u001b[K     |████████████████████████████████| 316 kB 684 kB/s eta 0:00:01\n",
      "\u001b[?25hRequirement already satisfied: numpy in /home/dinara/anaconda3/lib/python3.9/site-packages (from lightfm) (1.21.5)\n",
      "Requirement already satisfied: scipy>=0.17.0 in /home/dinara/anaconda3/lib/python3.9/site-packages (from lightfm) (1.7.3)\n",
      "Requirement already satisfied: requests in /home/dinara/anaconda3/lib/python3.9/site-packages (from lightfm) (2.27.1)\n",
      "Requirement already satisfied: scikit-learn in /home/dinara/anaconda3/lib/python3.9/site-packages (from lightfm) (1.0.2)\n",
      "Requirement already satisfied: idna<4,>=2.5 in /home/dinara/anaconda3/lib/python3.9/site-packages (from requests->lightfm) (3.3)\n",
      "Requirement already satisfied: urllib3<1.27,>=1.21.1 in /home/dinara/anaconda3/lib/python3.9/site-packages (from requests->lightfm) (1.26.9)\n",
      "Requirement already satisfied: charset-normalizer~=2.0.0 in /home/dinara/anaconda3/lib/python3.9/site-packages (from requests->lightfm) (2.0.4)\n",
      "Requirement already satisfied: certifi>=2017.4.17 in /home/dinara/anaconda3/lib/python3.9/site-packages (from requests->lightfm) (2021.10.8)\n",
      "Requirement already satisfied: joblib>=0.11 in /home/dinara/anaconda3/lib/python3.9/site-packages (from scikit-learn->lightfm) (1.1.0)\n",
      "Requirement already satisfied: threadpoolctl>=2.0.0 in /home/dinara/anaconda3/lib/python3.9/site-packages (from scikit-learn->lightfm) (2.2.0)\n",
      "Building wheels for collected packages: lightfm\n",
      "  Building wheel for lightfm (setup.py) ... \u001b[?25ldone\n",
      "\u001b[?25h  Created wheel for lightfm: filename=lightfm-1.17-cp39-cp39-linux_x86_64.whl size=449828 sha256=0bc310f10d91778f52c9759d0564b7c45bb8743f5cd1e82859b67d502e665fe2\n",
      "  Stored in directory: /home/dinara/.cache/pip/wheels/d8/65/93/6ac8180274dc2e8f86ff326be62da1dfa55dc158fd45faba7d\n",
      "Successfully built lightfm\n",
      "Installing collected packages: lightfm\n",
      "Successfully installed lightfm-1.17\n"
     ]
    }
   ],
   "source": [
    "#!pip install lightfm"
   ]
  },
  {
   "cell_type": "markdown",
   "metadata": {
    "id": "0CjyGqulcZTf"
   },
   "source": [
    "## Задание 1 (1.5 балла)"
   ]
  },
  {
   "cell_type": "markdown",
   "metadata": {
    "id": "4Sof6V5Dd4h9"
   },
   "source": [
    "Модели в LightFM работают с разреженными матрицами. Создайте разреженные матрицы `data_train` и `data_test` (размером количество пользователей на количество статей), такие что на пересечении строки пользователя и столбца статьи стоит сила их взаимодействия, если взаимодействие было, и стоит ноль, если взаимодействия не было."
   ]
  },
  {
   "cell_type": "code",
   "execution_count": 65,
   "metadata": {
    "id": "1cLZ5ga4eIdg"
   },
   "outputs": [],
   "source": [
    "# Ваш код здесь\n",
    "data_train = pd.pivot_table(\n",
    "    interactions_full_df,\n",
    "    values='eventStrength',\n",
    "    index='personId',\n",
    "    columns='contentId').fillna(0)\n",
    "data_test = pd.pivot_table(\n",
    "    interactions_full_df,\n",
    "    values='eventStrength',\n",
    "    index='personId',\n",
    "    columns='contentId').fillna(0)"
   ]
  },
  {
   "cell_type": "code",
   "execution_count": 22,
   "metadata": {},
   "outputs": [
    {
     "data": {
      "text/html": [
       "<div>\n",
       "<style scoped>\n",
       "    .dataframe tbody tr th:only-of-type {\n",
       "        vertical-align: middle;\n",
       "    }\n",
       "\n",
       "    .dataframe tbody tr th {\n",
       "        vertical-align: top;\n",
       "    }\n",
       "\n",
       "    .dataframe thead th {\n",
       "        text-align: right;\n",
       "    }\n",
       "</style>\n",
       "<table border=\"1\" class=\"dataframe\">\n",
       "  <thead>\n",
       "    <tr style=\"text-align: right;\">\n",
       "      <th>contentId</th>\n",
       "      <th>-1006791494035379303</th>\n",
       "      <th>-1021685224930603833</th>\n",
       "      <th>-1022885988494278200</th>\n",
       "      <th>-1024046541613287684</th>\n",
       "      <th>-1033806831489252007</th>\n",
       "      <th>-1038011342017850</th>\n",
       "      <th>-1039912738963181810</th>\n",
       "      <th>-1046621686880462790</th>\n",
       "      <th>-1051830303851697653</th>\n",
       "      <th>-1055630159212837930</th>\n",
       "      <th>...</th>\n",
       "      <th>9222265156747237864</th>\n",
       "      <th>943818026930898372</th>\n",
       "      <th>957332268361319692</th>\n",
       "      <th>962287586799267519</th>\n",
       "      <th>966067567430037498</th>\n",
       "      <th>967143806332397325</th>\n",
       "      <th>972258375127367383</th>\n",
       "      <th>980458131533897249</th>\n",
       "      <th>98528655405030624</th>\n",
       "      <th>991271693336573226</th>\n",
       "    </tr>\n",
       "    <tr>\n",
       "      <th>personId</th>\n",
       "      <th></th>\n",
       "      <th></th>\n",
       "      <th></th>\n",
       "      <th></th>\n",
       "      <th></th>\n",
       "      <th></th>\n",
       "      <th></th>\n",
       "      <th></th>\n",
       "      <th></th>\n",
       "      <th></th>\n",
       "      <th></th>\n",
       "      <th></th>\n",
       "      <th></th>\n",
       "      <th></th>\n",
       "      <th></th>\n",
       "      <th></th>\n",
       "      <th></th>\n",
       "      <th></th>\n",
       "      <th></th>\n",
       "      <th></th>\n",
       "      <th></th>\n",
       "    </tr>\n",
       "  </thead>\n",
       "  <tbody>\n",
       "    <tr>\n",
       "      <th>-8699750646678621887</th>\n",
       "      <td>0.0</td>\n",
       "      <td>0.0</td>\n",
       "      <td>0.0</td>\n",
       "      <td>0.0</td>\n",
       "      <td>0.0</td>\n",
       "      <td>0.0</td>\n",
       "      <td>0.0</td>\n",
       "      <td>0.0</td>\n",
       "      <td>0.0</td>\n",
       "      <td>0.0</td>\n",
       "      <td>...</td>\n",
       "      <td>0.0</td>\n",
       "      <td>0.0</td>\n",
       "      <td>0.0</td>\n",
       "      <td>0.0</td>\n",
       "      <td>0.0</td>\n",
       "      <td>0.0</td>\n",
       "      <td>0.0</td>\n",
       "      <td>0.0</td>\n",
       "      <td>0.0</td>\n",
       "      <td>1.0</td>\n",
       "    </tr>\n",
       "    <tr>\n",
       "      <th>-709489070586681689</th>\n",
       "      <td>0.0</td>\n",
       "      <td>0.0</td>\n",
       "      <td>0.0</td>\n",
       "      <td>0.0</td>\n",
       "      <td>0.0</td>\n",
       "      <td>0.0</td>\n",
       "      <td>0.0</td>\n",
       "      <td>0.0</td>\n",
       "      <td>0.0</td>\n",
       "      <td>0.0</td>\n",
       "      <td>...</td>\n",
       "      <td>0.0</td>\n",
       "      <td>0.0</td>\n",
       "      <td>0.0</td>\n",
       "      <td>0.0</td>\n",
       "      <td>0.0</td>\n",
       "      <td>0.0</td>\n",
       "      <td>0.0</td>\n",
       "      <td>0.0</td>\n",
       "      <td>0.0</td>\n",
       "      <td>0.0</td>\n",
       "    </tr>\n",
       "    <tr>\n",
       "      <th>-5409830449698398534</th>\n",
       "      <td>0.0</td>\n",
       "      <td>0.0</td>\n",
       "      <td>0.0</td>\n",
       "      <td>0.0</td>\n",
       "      <td>0.0</td>\n",
       "      <td>0.0</td>\n",
       "      <td>0.0</td>\n",
       "      <td>0.0</td>\n",
       "      <td>0.0</td>\n",
       "      <td>0.0</td>\n",
       "      <td>...</td>\n",
       "      <td>0.0</td>\n",
       "      <td>0.0</td>\n",
       "      <td>0.0</td>\n",
       "      <td>0.0</td>\n",
       "      <td>0.0</td>\n",
       "      <td>0.0</td>\n",
       "      <td>0.0</td>\n",
       "      <td>0.0</td>\n",
       "      <td>0.0</td>\n",
       "      <td>0.0</td>\n",
       "    </tr>\n",
       "    <tr>\n",
       "      <th>3948719927571797789</th>\n",
       "      <td>0.0</td>\n",
       "      <td>0.0</td>\n",
       "      <td>0.0</td>\n",
       "      <td>0.0</td>\n",
       "      <td>0.0</td>\n",
       "      <td>0.0</td>\n",
       "      <td>0.0</td>\n",
       "      <td>0.0</td>\n",
       "      <td>0.0</td>\n",
       "      <td>0.0</td>\n",
       "      <td>...</td>\n",
       "      <td>0.0</td>\n",
       "      <td>0.0</td>\n",
       "      <td>0.0</td>\n",
       "      <td>0.0</td>\n",
       "      <td>0.0</td>\n",
       "      <td>0.0</td>\n",
       "      <td>0.0</td>\n",
       "      <td>0.0</td>\n",
       "      <td>0.0</td>\n",
       "      <td>0.0</td>\n",
       "    </tr>\n",
       "    <tr>\n",
       "      <th>-1949305601666774230</th>\n",
       "      <td>0.0</td>\n",
       "      <td>0.0</td>\n",
       "      <td>0.0</td>\n",
       "      <td>0.0</td>\n",
       "      <td>0.0</td>\n",
       "      <td>0.0</td>\n",
       "      <td>0.0</td>\n",
       "      <td>0.0</td>\n",
       "      <td>0.0</td>\n",
       "      <td>0.0</td>\n",
       "      <td>...</td>\n",
       "      <td>0.0</td>\n",
       "      <td>0.0</td>\n",
       "      <td>0.0</td>\n",
       "      <td>0.0</td>\n",
       "      <td>0.0</td>\n",
       "      <td>0.0</td>\n",
       "      <td>0.0</td>\n",
       "      <td>0.0</td>\n",
       "      <td>0.0</td>\n",
       "      <td>0.0</td>\n",
       "    </tr>\n",
       "  </tbody>\n",
       "</table>\n",
       "<p>5 rows × 2984 columns</p>\n",
       "</div>"
      ],
      "text/plain": [
       "contentId             -1006791494035379303  -1021685224930603833  \\\n",
       "personId                                                           \n",
       "-8699750646678621887                   0.0                   0.0   \n",
       "-709489070586681689                    0.0                   0.0   \n",
       "-5409830449698398534                   0.0                   0.0   \n",
       "3948719927571797789                    0.0                   0.0   \n",
       "-1949305601666774230                   0.0                   0.0   \n",
       "\n",
       "contentId             -1022885988494278200  -1024046541613287684  \\\n",
       "personId                                                           \n",
       "-8699750646678621887                   0.0                   0.0   \n",
       "-709489070586681689                    0.0                   0.0   \n",
       "-5409830449698398534                   0.0                   0.0   \n",
       "3948719927571797789                    0.0                   0.0   \n",
       "-1949305601666774230                   0.0                   0.0   \n",
       "\n",
       "contentId             -1033806831489252007  -1038011342017850  \\\n",
       "personId                                                        \n",
       "-8699750646678621887                   0.0                0.0   \n",
       "-709489070586681689                    0.0                0.0   \n",
       "-5409830449698398534                   0.0                0.0   \n",
       "3948719927571797789                    0.0                0.0   \n",
       "-1949305601666774230                   0.0                0.0   \n",
       "\n",
       "contentId             -1039912738963181810  -1046621686880462790  \\\n",
       "personId                                                           \n",
       "-8699750646678621887                   0.0                   0.0   \n",
       "-709489070586681689                    0.0                   0.0   \n",
       "-5409830449698398534                   0.0                   0.0   \n",
       "3948719927571797789                    0.0                   0.0   \n",
       "-1949305601666774230                   0.0                   0.0   \n",
       "\n",
       "contentId             -1051830303851697653  -1055630159212837930  ...  \\\n",
       "personId                                                          ...   \n",
       "-8699750646678621887                   0.0                   0.0  ...   \n",
       "-709489070586681689                    0.0                   0.0  ...   \n",
       "-5409830449698398534                   0.0                   0.0  ...   \n",
       "3948719927571797789                    0.0                   0.0  ...   \n",
       "-1949305601666774230                   0.0                   0.0  ...   \n",
       "\n",
       "contentId             9222265156747237864  943818026930898372  \\\n",
       "personId                                                        \n",
       "-8699750646678621887                  0.0                 0.0   \n",
       "-709489070586681689                   0.0                 0.0   \n",
       "-5409830449698398534                  0.0                 0.0   \n",
       "3948719927571797789                   0.0                 0.0   \n",
       "-1949305601666774230                  0.0                 0.0   \n",
       "\n",
       "contentId             957332268361319692  962287586799267519  \\\n",
       "personId                                                       \n",
       "-8699750646678621887                 0.0                 0.0   \n",
       "-709489070586681689                  0.0                 0.0   \n",
       "-5409830449698398534                 0.0                 0.0   \n",
       "3948719927571797789                  0.0                 0.0   \n",
       "-1949305601666774230                 0.0                 0.0   \n",
       "\n",
       "contentId             966067567430037498  967143806332397325  \\\n",
       "personId                                                       \n",
       "-8699750646678621887                 0.0                 0.0   \n",
       "-709489070586681689                  0.0                 0.0   \n",
       "-5409830449698398534                 0.0                 0.0   \n",
       "3948719927571797789                  0.0                 0.0   \n",
       "-1949305601666774230                 0.0                 0.0   \n",
       "\n",
       "contentId             972258375127367383  980458131533897249  \\\n",
       "personId                                                       \n",
       "-8699750646678621887                 0.0                 0.0   \n",
       "-709489070586681689                  0.0                 0.0   \n",
       "-5409830449698398534                 0.0                 0.0   \n",
       "3948719927571797789                  0.0                 0.0   \n",
       "-1949305601666774230                 0.0                 0.0   \n",
       "\n",
       "contentId             98528655405030624  991271693336573226  \n",
       "personId                                                     \n",
       "-8699750646678621887                0.0                 1.0  \n",
       "-709489070586681689                 0.0                 0.0  \n",
       "-5409830449698398534                0.0                 0.0  \n",
       "3948719927571797789                 0.0                 0.0  \n",
       "-1949305601666774230                0.0                 0.0  \n",
       "\n",
       "[5 rows x 2984 columns]"
      ]
     },
     "execution_count": 22,
     "metadata": {},
     "output_type": "execute_result"
    }
   ],
   "source": [
    "data_train.sample(5)"
   ]
  },
  {
   "cell_type": "code",
   "execution_count": 66,
   "metadata": {
    "tags": []
   },
   "outputs": [
    {
     "name": "stderr",
     "output_type": "stream",
     "text": [
      "100%|████████████████████████████████████████████| 1140/1140 [05:44<00:00,  3.31it/s]\n"
     ]
    }
   ],
   "source": [
    "for person in tqdm(list(interactions_full_df.personId.unique())):\n",
    "    if person in list(interactions_train_df.personId.unique()):\n",
    "        contents_df = interactions_train_df[interactions_train_df.personId == person]\n",
    "        for paper in list(data_train.loc[person].index):\n",
    "            if paper not in list(contents_df.contentId):\n",
    "                data_train[paper][person] = 0.0\n",
    "    else:\n",
    "        for paper in list(data_train.loc[person].index):\n",
    "            data_train[paper][person] = 0.0"
   ]
  },
  {
   "cell_type": "code",
   "execution_count": 68,
   "metadata": {},
   "outputs": [
    {
     "name": "stderr",
     "output_type": "stream",
     "text": [
      "100%|████████████████████████████████████████████| 1140/1140 [06:14<00:00,  3.04it/s]\n"
     ]
    }
   ],
   "source": [
    "for person in tqdm(list(interactions_full_df.personId.unique())):\n",
    "    if person in list(interactions_test_df.personId.unique()):\n",
    "        contents_df = interactions_test_df[interactions_test_df.personId == person]\n",
    "        for paper in list(data_test.loc[person].index):\n",
    "            if paper not in list(contents_df.contentId):\n",
    "                data_test[paper][person] = 0.0\n",
    "    else:\n",
    "        for paper in list(data_test.loc[person].index):\n",
    "            data_test[paper][person] = 0.0"
   ]
  },
  {
   "cell_type": "code",
   "execution_count": 110,
   "metadata": {},
   "outputs": [
    {
     "data": {
      "text/plain": [
       "<1140x2984 sparse matrix of type '<class 'numpy.float64'>'\n",
       "\twith 29329 stored elements in Compressed Sparse Row format>"
      ]
     },
     "execution_count": 110,
     "metadata": {},
     "output_type": "execute_result"
    }
   ],
   "source": [
    "data_train_sparse = sparse.csr_matrix(data_train.values)\n",
    "data_train_sparse"
   ]
  },
  {
   "cell_type": "code",
   "execution_count": 111,
   "metadata": {},
   "outputs": [
    {
     "data": {
      "text/plain": [
       "<1140x2984 sparse matrix of type '<class 'numpy.float64'>'\n",
       "\twith 9777 stored elements in Compressed Sparse Row format>"
      ]
     },
     "execution_count": 111,
     "metadata": {},
     "output_type": "execute_result"
    }
   ],
   "source": [
    "data_test_sparse = sparse.csr_matrix(data_test.values)\n",
    "data_test_sparse"
   ]
  },
  {
   "cell_type": "markdown",
   "metadata": {
    "id": "AiNGVzTveRXE"
   },
   "source": [
    "## Задание 2 (0.5 балла)"
   ]
  },
  {
   "cell_type": "markdown",
   "metadata": {
    "id": "ZPfVK3STeryM"
   },
   "source": [
    "Обучите модель LightFM с `loss=\"warp\"` и посчитайте *precision@10* на тесте."
   ]
  },
  {
   "cell_type": "code",
   "execution_count": 114,
   "metadata": {
    "id": "YFQxeHw8eVLz"
   },
   "outputs": [
    {
     "data": {
      "text/plain": [
       "<lightfm.lightfm.LightFM at 0x7f1c82907be0>"
      ]
     },
     "execution_count": 114,
     "metadata": {},
     "output_type": "execute_result"
    }
   ],
   "source": [
    "model = LightFM(loss='warp', random_state=123)\n",
    "model.fit(data_train_sparse, epochs=10, num_threads=16)"
   ]
  },
  {
   "cell_type": "code",
   "execution_count": 115,
   "metadata": {},
   "outputs": [
    {
     "name": "stdout",
     "output_type": "stream",
     "text": [
      "0.20818345\n",
      "0.0069246436\n"
     ]
    }
   ],
   "source": [
    "train_precision = precision_at_k(model, data_train_sparse, k=10).mean()\n",
    "test_precision = precision_at_k(model, data_test_sparse, k=10, train_interactions=data_train_sparse).mean()\n",
    "print(train_precision)\n",
    "print(test_precision)"
   ]
  },
  {
   "cell_type": "markdown",
   "metadata": {
    "id": "qZDsG1iAfdrl"
   },
   "source": [
    "## Задание 3 (2 балла)"
   ]
  },
  {
   "cell_type": "markdown",
   "metadata": {
    "id": "F93chvtbgA9N"
   },
   "source": [
    "При вызове метода `fit` LightFM позволяет передавать в `item_features` признаковое описание объектов. Воспользуемся этим. Будем получать признаковое описание из текста статьи в виде [TF-IDF](https://ru.wikipedia.org/wiki/TF-IDF) (можно воспользоваться `TfidfVectorizer` из scikit-learn). Создайте матрицу `feat` размером количесвто статей на размер признакового описание и обучите LightFM с `loss=\"warp\"` и посчитайте precision@10 на тесте."
   ]
  },
  {
   "cell_type": "code",
   "execution_count": 189,
   "metadata": {
    "tags": []
   },
   "outputs": [
    {
     "data": {
      "text/plain": [
       "array(['00', '000', '0000', ..., '食べ物', '食事中', '건배'], dtype=object)"
      ]
     },
     "execution_count": 189,
     "metadata": {},
     "output_type": "execute_result"
    }
   ],
   "source": [
    "vectorizer = TfidfVectorizer()\n",
    "papers = list(interactions_full_df.contentId.unique())\n",
    "feat = vectorizer.fit_transform([np.array(articles_df.loc[articles_df['contentId'] == i].text)[0] if i in list(articles_df.contentId) else '' for i in papers])\n",
    "vectorizer.get_feature_names_out()"
   ]
  },
  {
   "cell_type": "code",
   "execution_count": 190,
   "metadata": {},
   "outputs": [
    {
     "data": {
      "text/plain": [
       "(2984, 71875)"
      ]
     },
     "execution_count": 190,
     "metadata": {},
     "output_type": "execute_result"
    }
   ],
   "source": [
    "feat.shape"
   ]
  },
  {
   "cell_type": "code",
   "execution_count": 202,
   "metadata": {
    "id": "5SvUi_Fofgf5"
   },
   "outputs": [
    {
     "data": {
      "text/plain": [
       "<lightfm.lightfm.LightFM at 0x7f1c701f1fd0>"
      ]
     },
     "execution_count": 202,
     "metadata": {},
     "output_type": "execute_result"
    }
   ],
   "source": [
    "model = LightFM(loss='warp', random_state=42)\n",
    "model.fit(data_train_sparse, epochs=10, item_features = feat)"
   ]
  },
  {
   "cell_type": "code",
   "execution_count": 203,
   "metadata": {},
   "outputs": [
    {
     "name": "stdout",
     "output_type": "stream",
     "text": [
      "0.21465829\n",
      "0.0061099795\n"
     ]
    }
   ],
   "source": [
    "train_precision = precision_at_k(model, data_train_sparse, k=10, item_features = feat).mean()\n",
    "test_precision = precision_at_k(model, data_test_sparse, k=10, train_interactions=data_train_sparse, item_features = feat).mean()\n",
    "print(train_precision)\n",
    "print(test_precision)"
   ]
  },
  {
   "cell_type": "markdown",
   "metadata": {
    "id": "8Lwuex6PpsFw"
   },
   "source": [
    "## Задание 4 (1.5 балла)"
   ]
  },
  {
   "cell_type": "markdown",
   "metadata": {
    "id": "5aZcHjSzp2cZ"
   },
   "source": [
    "В задании 3 мы использовали сырой текст статей. В этом задании необходимо сначала сделать предобработку текста (привести к нижнему регистру, убрать стоп слова, привести слова к номральной форме и т.д.), после чего обучите модель и оценить качество на тестовых данных."
   ]
  },
  {
   "cell_type": "code",
   "execution_count": 204,
   "metadata": {
    "collapsed": true,
    "id": "HDSaOLiJpdGj",
    "jupyter": {
     "outputs_hidden": true
    },
    "tags": []
   },
   "outputs": [
    {
     "name": "stderr",
     "output_type": "stream",
     "text": [
      "[nltk_data] Downloading package stopwords to /home/dinara/nltk_data...\n",
      "[nltk_data]   Package stopwords is already up-to-date!\n",
      "[nltk_data] Downloading package punkt to /home/dinara/nltk_data...\n",
      "[nltk_data]   Package punkt is already up-to-date!\n",
      "[nltk_data] Downloading package snowball_data to\n",
      "[nltk_data]     /home/dinara/nltk_data...\n",
      "[nltk_data]   Package snowball_data is already up-to-date!\n",
      "[nltk_data] Downloading package perluniprops to\n",
      "[nltk_data]     /home/dinara/nltk_data...\n",
      "[nltk_data]   Package perluniprops is already up-to-date!\n",
      "[nltk_data] Downloading package universal_tagset to\n",
      "[nltk_data]     /home/dinara/nltk_data...\n",
      "[nltk_data]   Package universal_tagset is already up-to-date!\n",
      "[nltk_data] Downloading package nonbreaking_prefixes to\n",
      "[nltk_data]     /home/dinara/nltk_data...\n",
      "[nltk_data]   Package nonbreaking_prefixes is already up-to-date!\n",
      "[nltk_data] Downloading package wordnet to /home/dinara/nltk_data...\n",
      "[nltk_data]   Package wordnet is already up-to-date!\n"
     ]
    },
    {
     "data": {
      "text/plain": [
       "True"
      ]
     },
     "execution_count": 204,
     "metadata": {},
     "output_type": "execute_result"
    }
   ],
   "source": [
    "import nltk\n",
    "nltk.download('stopwords')\n",
    "nltk.download('punkt')\n",
    "nltk.download('snowball_data')\n",
    "nltk.download('perluniprops')\n",
    "nltk.download('universal_tagset')\n",
    "nltk.download('nonbreaking_prefixes')\n",
    "nltk.download('wordnet')"
   ]
  },
  {
   "cell_type": "code",
   "execution_count": 207,
   "metadata": {},
   "outputs": [
    {
     "data": {
      "text/html": [
       "<div>\n",
       "<style scoped>\n",
       "    .dataframe tbody tr th:only-of-type {\n",
       "        vertical-align: middle;\n",
       "    }\n",
       "\n",
       "    .dataframe tbody tr th {\n",
       "        vertical-align: top;\n",
       "    }\n",
       "\n",
       "    .dataframe thead th {\n",
       "        text-align: right;\n",
       "    }\n",
       "</style>\n",
       "<table border=\"1\" class=\"dataframe\">\n",
       "  <thead>\n",
       "    <tr style=\"text-align: right;\">\n",
       "      <th></th>\n",
       "      <th>timestamp</th>\n",
       "      <th>eventType</th>\n",
       "      <th>contentId</th>\n",
       "      <th>authorPersonId</th>\n",
       "      <th>authorSessionId</th>\n",
       "      <th>authorUserAgent</th>\n",
       "      <th>authorRegion</th>\n",
       "      <th>authorCountry</th>\n",
       "      <th>contentType</th>\n",
       "      <th>url</th>\n",
       "      <th>title</th>\n",
       "      <th>text</th>\n",
       "      <th>lang</th>\n",
       "      <th>text_lower</th>\n",
       "    </tr>\n",
       "  </thead>\n",
       "  <tbody>\n",
       "    <tr>\n",
       "      <th>1300</th>\n",
       "      <td>1465348582</td>\n",
       "      <td>CONTENT SHARED</td>\n",
       "      <td>7653591914898297019</td>\n",
       "      <td>-1032019229384696495</td>\n",
       "      <td>3621737643587579081</td>\n",
       "      <td>NaN</td>\n",
       "      <td>NaN</td>\n",
       "      <td>NaN</td>\n",
       "      <td>HTML</td>\n",
       "      <td>http://techcrunch.com/2016/06/07/the-battle-fo...</td>\n",
       "      <td>The battle for the post-digital world</td>\n",
       "      <td>Marketing in a post-digital world was a major ...</td>\n",
       "      <td>en</td>\n",
       "      <td>marketing in a post-digital world was a major ...</td>\n",
       "    </tr>\n",
       "    <tr>\n",
       "      <th>2439</th>\n",
       "      <td>1474979679</td>\n",
       "      <td>CONTENT SHARED</td>\n",
       "      <td>-769212572760644334</td>\n",
       "      <td>361614354650880527</td>\n",
       "      <td>6721903785317982237</td>\n",
       "      <td>NaN</td>\n",
       "      <td>NaN</td>\n",
       "      <td>NaN</td>\n",
       "      <td>HTML</td>\n",
       "      <td>https://webdesign.tutsplus.com/articles/the-tr...</td>\n",
       "      <td>The Truth About Multiple H1 Tags in the HTML5 Era</td>\n",
       "      <td>Whether you're a webmaster or a web designer, ...</td>\n",
       "      <td>en</td>\n",
       "      <td>whether you're a webmaster or a web designer, ...</td>\n",
       "    </tr>\n",
       "  </tbody>\n",
       "</table>\n",
       "</div>"
      ],
      "text/plain": [
       "       timestamp       eventType            contentId       authorPersonId  \\\n",
       "1300  1465348582  CONTENT SHARED  7653591914898297019 -1032019229384696495   \n",
       "2439  1474979679  CONTENT SHARED  -769212572760644334   361614354650880527   \n",
       "\n",
       "          authorSessionId authorUserAgent authorRegion authorCountry  \\\n",
       "1300  3621737643587579081             NaN          NaN           NaN   \n",
       "2439  6721903785317982237             NaN          NaN           NaN   \n",
       "\n",
       "     contentType                                                url  \\\n",
       "1300        HTML  http://techcrunch.com/2016/06/07/the-battle-fo...   \n",
       "2439        HTML  https://webdesign.tutsplus.com/articles/the-tr...   \n",
       "\n",
       "                                                  title  \\\n",
       "1300              The battle for the post-digital world   \n",
       "2439  The Truth About Multiple H1 Tags in the HTML5 Era   \n",
       "\n",
       "                                                   text lang  \\\n",
       "1300  Marketing in a post-digital world was a major ...   en   \n",
       "2439  Whether you're a webmaster or a web designer, ...   en   \n",
       "\n",
       "                                             text_lower  \n",
       "1300  marketing in a post-digital world was a major ...  \n",
       "2439  whether you're a webmaster or a web designer, ...  "
      ]
     },
     "execution_count": 207,
     "metadata": {},
     "output_type": "execute_result"
    }
   ],
   "source": [
    "articles_df['text_lower'] = articles_df.text.apply(lambda x: x.lower())\n",
    "articles_df.sample(2)"
   ]
  },
  {
   "cell_type": "code",
   "execution_count": 219,
   "metadata": {},
   "outputs": [],
   "source": [
    "from pymorphy2 import MorphAnalyzer\n",
    "#from functools import lru_cache\n",
    "from nltk.corpus import stopwords\n",
    "import re\n",
    "\n",
    "m = MorphAnalyzer()\n",
    "regex = re.compile(\"[А-Яа-яA-z]+\")\n",
    "\n",
    "def words_only(text, regex=regex):\n",
    "    try:\n",
    "        return regex.findall(text.lower())\n",
    "    except:\n",
    "        return []"
   ]
  },
  {
   "cell_type": "code",
   "execution_count": 217,
   "metadata": {},
   "outputs": [],
   "source": [
    "def lemmatize_word(token, pymorphy=m):\n",
    "    return pymorphy.parse(token)[0].normal_form\n",
    "\n",
    "def lemmatize_text(text):\n",
    "    return [lemmatize_word(w) for w in text]\n",
    "\n",
    "\n",
    "mystopwords = stopwords.words('english') \n",
    "def remove_stopwords(lemmas, stopwords = mystopwords):\n",
    "    return [w for w in lemmas if not w in stopwords and len(w) > 3]\n",
    "\n",
    "def clean_text(text):\n",
    "    tokens = words_only(text)\n",
    "    lemmas = lemmatize_text(tokens)\n",
    "    return ' '.join(remove_stopwords(lemmas))"
   ]
  },
  {
   "cell_type": "code",
   "execution_count": 218,
   "metadata": {},
   "outputs": [
    {
     "name": "stderr",
     "output_type": "stream",
     "text": [
      "100%|███████████████████████████████████████████| 3047/3047 [00:15<00:00, 192.37it/s]\n"
     ]
    },
    {
     "data": {
      "text/html": [
       "<div>\n",
       "<style scoped>\n",
       "    .dataframe tbody tr th:only-of-type {\n",
       "        vertical-align: middle;\n",
       "    }\n",
       "\n",
       "    .dataframe tbody tr th {\n",
       "        vertical-align: top;\n",
       "    }\n",
       "\n",
       "    .dataframe thead th {\n",
       "        text-align: right;\n",
       "    }\n",
       "</style>\n",
       "<table border=\"1\" class=\"dataframe\">\n",
       "  <thead>\n",
       "    <tr style=\"text-align: right;\">\n",
       "      <th></th>\n",
       "      <th>timestamp</th>\n",
       "      <th>eventType</th>\n",
       "      <th>contentId</th>\n",
       "      <th>authorPersonId</th>\n",
       "      <th>authorSessionId</th>\n",
       "      <th>authorUserAgent</th>\n",
       "      <th>authorRegion</th>\n",
       "      <th>authorCountry</th>\n",
       "      <th>contentType</th>\n",
       "      <th>url</th>\n",
       "      <th>title</th>\n",
       "      <th>text</th>\n",
       "      <th>lang</th>\n",
       "      <th>text_lower</th>\n",
       "      <th>lemmas</th>\n",
       "    </tr>\n",
       "  </thead>\n",
       "  <tbody>\n",
       "    <tr>\n",
       "      <th>280</th>\n",
       "      <td>1460117995</td>\n",
       "      <td>CONTENT SHARED</td>\n",
       "      <td>2947843229055216994</td>\n",
       "      <td>-6316613156648676087</td>\n",
       "      <td>5673696108944885080</td>\n",
       "      <td>NaN</td>\n",
       "      <td>NaN</td>\n",
       "      <td>NaN</td>\n",
       "      <td>HTML</td>\n",
       "      <td>http://www.androidauthority.com/google-wallet-...</td>\n",
       "      <td>Google will stop supporting physical Google Wa...</td>\n",
       "      <td>If you're still using a physical Google Wallet...</td>\n",
       "      <td>en</td>\n",
       "      <td>if you're still using a physical google wallet...</td>\n",
       "      <td>still using physical google wallet card make t...</td>\n",
       "    </tr>\n",
       "    <tr>\n",
       "      <th>1363</th>\n",
       "      <td>1465820057</td>\n",
       "      <td>CONTENT SHARED</td>\n",
       "      <td>7421641564256558176</td>\n",
       "      <td>-1799631734242668035</td>\n",
       "      <td>-2531009300052627764</td>\n",
       "      <td>NaN</td>\n",
       "      <td>NaN</td>\n",
       "      <td>NaN</td>\n",
       "      <td>HTML</td>\n",
       "      <td>http://m.thedrum.com/opinion/2016/06/09/martec...</td>\n",
       "      <td>Martech and ad tech convergence: myth or reality?</td>\n",
       "      <td>There has been a lot of chatter in the industr...</td>\n",
       "      <td>en</td>\n",
       "      <td>there has been a lot of chatter in the industr...</td>\n",
       "      <td>chatter industry lately distinct worlds market...</td>\n",
       "    </tr>\n",
       "    <tr>\n",
       "      <th>1822</th>\n",
       "      <td>1468974552</td>\n",
       "      <td>CONTENT SHARED</td>\n",
       "      <td>-4718837078135183000</td>\n",
       "      <td>6003902177042843076</td>\n",
       "      <td>8987524505013192847</td>\n",
       "      <td>NaN</td>\n",
       "      <td>NaN</td>\n",
       "      <td>NaN</td>\n",
       "      <td>HTML</td>\n",
       "      <td>http://android-developers.blogspot.com.br/2016...</td>\n",
       "      <td>Strictly Enforced Verified Boot with Error Cor...</td>\n",
       "      <td>Posted by Sami Tolvanen, Software Engineer Ove...</td>\n",
       "      <td>en</td>\n",
       "      <td>posted by sami tolvanen, software engineer ove...</td>\n",
       "      <td>posted sami tolvanen software engineer overvie...</td>\n",
       "    </tr>\n",
       "    <tr>\n",
       "      <th>3034</th>\n",
       "      <td>1485795080</td>\n",
       "      <td>CONTENT SHARED</td>\n",
       "      <td>-3224698078244963479</td>\n",
       "      <td>3609194402293569455</td>\n",
       "      <td>7615580420845694310</td>\n",
       "      <td>Mozilla/5.0 (Windows NT 10.0; WOW64) AppleWebK...</td>\n",
       "      <td>SP</td>\n",
       "      <td>BR</td>\n",
       "      <td>HTML</td>\n",
       "      <td>http://tutorialzine.com/2017/01/20-awesome-php...</td>\n",
       "      <td>20 Awesome PHP Libraries For Early 2017</td>\n",
       "      <td>20 Awesome PHP Libraries For Early 2017 Danny ...</td>\n",
       "      <td>en</td>\n",
       "      <td>20 awesome php libraries for early 2017 danny ...</td>\n",
       "      <td>awesome libraries early danny markov week coll...</td>\n",
       "    </tr>\n",
       "    <tr>\n",
       "      <th>2878</th>\n",
       "      <td>1481804329</td>\n",
       "      <td>CONTENT SHARED</td>\n",
       "      <td>-7034660627992927630</td>\n",
       "      <td>-8845298781299428018</td>\n",
       "      <td>-6058078805618666674</td>\n",
       "      <td>Mozilla/5.0 (Macintosh; Intel Mac OS X 10_12_1...</td>\n",
       "      <td>SP</td>\n",
       "      <td>BR</td>\n",
       "      <td>HTML</td>\n",
       "      <td>https://techcrunch.com/2016/12/14/yahoo-disclo...</td>\n",
       "      <td>Yahoo discloses hack of 1 billion accounts</td>\n",
       "      <td>Yahoo has suffered another hack. The company d...</td>\n",
       "      <td>en</td>\n",
       "      <td>yahoo has suffered another hack. the company d...</td>\n",
       "      <td>yahoo suffered another hack company disclosed ...</td>\n",
       "    </tr>\n",
       "  </tbody>\n",
       "</table>\n",
       "</div>"
      ],
      "text/plain": [
       "       timestamp       eventType             contentId       authorPersonId  \\\n",
       "280   1460117995  CONTENT SHARED   2947843229055216994 -6316613156648676087   \n",
       "1363  1465820057  CONTENT SHARED   7421641564256558176 -1799631734242668035   \n",
       "1822  1468974552  CONTENT SHARED  -4718837078135183000  6003902177042843076   \n",
       "3034  1485795080  CONTENT SHARED  -3224698078244963479  3609194402293569455   \n",
       "2878  1481804329  CONTENT SHARED  -7034660627992927630 -8845298781299428018   \n",
       "\n",
       "          authorSessionId                                    authorUserAgent  \\\n",
       "280   5673696108944885080                                                NaN   \n",
       "1363 -2531009300052627764                                                NaN   \n",
       "1822  8987524505013192847                                                NaN   \n",
       "3034  7615580420845694310  Mozilla/5.0 (Windows NT 10.0; WOW64) AppleWebK...   \n",
       "2878 -6058078805618666674  Mozilla/5.0 (Macintosh; Intel Mac OS X 10_12_1...   \n",
       "\n",
       "     authorRegion authorCountry contentType  \\\n",
       "280           NaN           NaN        HTML   \n",
       "1363          NaN           NaN        HTML   \n",
       "1822          NaN           NaN        HTML   \n",
       "3034           SP            BR        HTML   \n",
       "2878           SP            BR        HTML   \n",
       "\n",
       "                                                    url  \\\n",
       "280   http://www.androidauthority.com/google-wallet-...   \n",
       "1363  http://m.thedrum.com/opinion/2016/06/09/martec...   \n",
       "1822  http://android-developers.blogspot.com.br/2016...   \n",
       "3034  http://tutorialzine.com/2017/01/20-awesome-php...   \n",
       "2878  https://techcrunch.com/2016/12/14/yahoo-disclo...   \n",
       "\n",
       "                                                  title  \\\n",
       "280   Google will stop supporting physical Google Wa...   \n",
       "1363  Martech and ad tech convergence: myth or reality?   \n",
       "1822  Strictly Enforced Verified Boot with Error Cor...   \n",
       "3034            20 Awesome PHP Libraries For Early 2017   \n",
       "2878         Yahoo discloses hack of 1 billion accounts   \n",
       "\n",
       "                                                   text lang  \\\n",
       "280   If you're still using a physical Google Wallet...   en   \n",
       "1363  There has been a lot of chatter in the industr...   en   \n",
       "1822  Posted by Sami Tolvanen, Software Engineer Ove...   en   \n",
       "3034  20 Awesome PHP Libraries For Early 2017 Danny ...   en   \n",
       "2878  Yahoo has suffered another hack. The company d...   en   \n",
       "\n",
       "                                             text_lower  \\\n",
       "280   if you're still using a physical google wallet...   \n",
       "1363  there has been a lot of chatter in the industr...   \n",
       "1822  posted by sami tolvanen, software engineer ove...   \n",
       "3034  20 awesome php libraries for early 2017 danny ...   \n",
       "2878  yahoo has suffered another hack. the company d...   \n",
       "\n",
       "                                                 lemmas  \n",
       "280   still using physical google wallet card make t...  \n",
       "1363  chatter industry lately distinct worlds market...  \n",
       "1822  posted sami tolvanen software engineer overvie...  \n",
       "3034  awesome libraries early danny markov week coll...  \n",
       "2878  yahoo suffered another hack company disclosed ...  "
      ]
     },
     "execution_count": 218,
     "metadata": {},
     "output_type": "execute_result"
    }
   ],
   "source": [
    "from multiprocessing import Pool\n",
    "from tqdm import tqdm\n",
    "\n",
    "with Pool(4) as p:\n",
    "    lemmas = list(tqdm(p.imap(clean_text, articles_df['text_lower']), total=len(articles_df)))\n",
    "    \n",
    "articles_df['lemmas'] = lemmas\n",
    "articles_df.sample(5)"
   ]
  },
  {
   "cell_type": "code",
   "execution_count": null,
   "metadata": {},
   "outputs": [],
   "source": [
    "🐂 Делаем предсказания с помощью LightFM после лемматизации"
   ]
  },
  {
   "cell_type": "code",
   "execution_count": 223,
   "metadata": {},
   "outputs": [
    {
     "data": {
      "text/plain": [
       "array(['_____', '______', '_______', ..., 'соnvеr', 'соuрl', 'уеаr'],\n",
       "      dtype=object)"
      ]
     },
     "execution_count": 223,
     "metadata": {},
     "output_type": "execute_result"
    }
   ],
   "source": [
    "vectorizer = TfidfVectorizer()\n",
    "papers = list(interactions_full_df.contentId.unique())\n",
    "feat_lemmas = vectorizer.fit_transform([np.array(articles_df.loc[articles_df['contentId'] == i].lemmas)[0] if i in list(articles_df.contentId) else '' for i in papers])\n",
    "vectorizer.get_feature_names_out()"
   ]
  },
  {
   "cell_type": "code",
   "execution_count": 224,
   "metadata": {},
   "outputs": [
    {
     "data": {
      "text/plain": [
       "(2984, 63066)"
      ]
     },
     "execution_count": 224,
     "metadata": {},
     "output_type": "execute_result"
    }
   ],
   "source": [
    "feat_lemmas.shape"
   ]
  },
  {
   "cell_type": "code",
   "execution_count": 229,
   "metadata": {},
   "outputs": [
    {
     "data": {
      "text/plain": [
       "<lightfm.lightfm.LightFM at 0x7f1c62234f70>"
      ]
     },
     "execution_count": 229,
     "metadata": {},
     "output_type": "execute_result"
    }
   ],
   "source": [
    "model = LightFM(loss='warp', random_state=42)\n",
    "model.fit(data_train_sparse, epochs=10, item_features=feat_lemmas)"
   ]
  },
  {
   "cell_type": "code",
   "execution_count": 230,
   "metadata": {},
   "outputs": [
    {
     "name": "stdout",
     "output_type": "stream",
     "text": [
      "0.22077338\n",
      "0.006211813\n"
     ]
    }
   ],
   "source": [
    "train_precision = precision_at_k(model, data_train_sparse, k=10, item_features = feat_lemmas).mean()\n",
    "test_precision = precision_at_k(model, data_test_sparse, k=10, train_interactions=data_train_sparse, item_features = feat_lemmas).mean()\n",
    "print(train_precision)\n",
    "print(test_precision)"
   ]
  },
  {
   "cell_type": "markdown",
   "metadata": {
    "id": "VgayAPRpqn7L"
   },
   "source": [
    "Улучшилось ли качество предсказания?"
   ]
  },
  {
   "cell_type": "code",
   "execution_count": null,
   "metadata": {},
   "outputs": [],
   "source": [
    "🦛 немного улучшилось"
   ]
  },
  {
   "cell_type": "markdown",
   "metadata": {
    "id": "XKRzLLodq3gq"
   },
   "source": [
    "## Задание 5 (1.5 балла)"
   ]
  },
  {
   "cell_type": "markdown",
   "metadata": {
    "id": "brjHl49Aq8su"
   },
   "source": [
    "Подберите гиперпараметры модели LightFM (`n_components` и др.) для улучшения качества модели."
   ]
  },
  {
   "cell_type": "code",
   "execution_count": null,
   "metadata": {
    "id": "PlwaeCiZqncD"
   },
   "outputs": [],
   "source": [
    "# Ваш код здесь"
   ]
  },
  {
   "cell_type": "markdown",
   "metadata": {
    "id": "xJA7v07NrYSF"
   },
   "source": [
    "## Задание 6 (1 балл)"
   ]
  },
  {
   "cell_type": "markdown",
   "metadata": {
    "id": "veLFUoVRrisk"
   },
   "source": [
    "Реализуйте функции для вычисления следующих метрик:\n",
    "* precision@k\n",
    "* recall@k\n",
    "* NDCG@k\n",
    "\n"
   ]
  },
  {
   "cell_type": "code",
   "execution_count": null,
   "metadata": {
    "id": "CQmn1cb-rXU3"
   },
   "outputs": [],
   "source": [
    "# Ваш код здесь"
   ]
  },
  {
   "cell_type": "markdown",
   "metadata": {
    "id": "YE5L-ise3Bq_"
   },
   "source": [
    "## Задание 7 (1 балл)"
   ]
  },
  {
   "cell_type": "markdown",
   "metadata": {
    "id": "7bqmjJMH3DB7"
   },
   "source": [
    "Вычислите значения реализованных метрик для $k=10$ для лучшей полученной модели в предыдущих шагах.\n",
    "\n",
    "Найдите уже реализованные варианты этих метрик в библиотеках lightfm и sklearn. Сравните полученные у вас значения метрик с результатами встроенных в библиотеки метрик."
   ]
  },
  {
   "cell_type": "code",
   "execution_count": null,
   "metadata": {
    "id": "Vs3x2O5Z3Cgo"
   },
   "outputs": [],
   "source": [
    "# Ваш код здесь"
   ]
  },
  {
   "cell_type": "markdown",
   "metadata": {
    "id": "t78oSTQz3Y6u"
   },
   "source": [
    "## Задание 8 (1 балл)\n",
    "\n",
    "Реализуйте алгоритм ALS и примените его для решения задачи ноутбука."
   ]
  },
  {
   "cell_type": "markdown",
   "metadata": {
    "id": "voZ9GsE54EZT"
   },
   "source": [
    "**ALS**\n",
    "\n",
    "Итак, поставлена задача построения модели со скрытыми переменными (latent factor model) для коллаборативной фильтрации:\n",
    "\n",
    "$$ \\sum_{u,i} (r_{ui} - \\langle p_u, q_i \\rangle)^2 \\to \\min_{P,Q}$$\n",
    "\n",
    "Суммирование ведется по всем парам $(u, i),$ для которых известен рейтинг $r_{ui}$ (и только по ним), а $p_u, q_i$ – латентные представления пользователя~$u$ и товара $i$, соответственно, матрицы $P, Q$ получаются путем записывания по столбцам векторов $p_u, q_i$ соответственно.\n",
    "\n",
    "Подход ALS (Alternating Least Squares) решает задачу, попеременно фиксируя матрицы $P$ и $Q$, — оказывается, что, зафиксировав одну из матриц, можно выписать аналитическое решение задачи для другой.\n",
    "\n",
    "$$\\nabla_{p_u} \\bigg[ \\sum_{u,i} (r_{ui} - \\langle p_u, q_i \\rangle)^2 \\bigg] = \\sum_{i} 2(r_{ui} - \\langle p_u, q_i \\rangle)q_i = 0$$\n",
    "\n",
    "Воспользовавшись тем, что $a^Tbc = cb^Ta$, получим\n",
    "$$\\sum_{i} r_{ui}q_i - \\sum_i q_i q_i^T p_u = 0.$$\n",
    "\n",
    "Тогда окончательно каждый столбец матрицы $P$ можно найти по формуле\n",
    "$$p_u = \\bigg( \\sum_i q_i q_i^T\\bigg)^{-1}\\sum_ir_{ui}q_i \\;\\; \\forall u,$$\n",
    "\n",
    "аналогично для столбцов матрицы $Q$\n",
    "$$q_i = \\bigg( \\sum_u p_u p_u^T\\bigg)^{-1}\\sum_ur_{ui}p_u \\;\\; \\forall i.$$\n",
    "\n",
    "Таким образом мы можем решать оптимизационную задачу, поочередно фиксируя одну из матриц $P$ или $Q$ и проводя оптимизацию по второй.\n",
    "\n",
    "**Оригинальная статья c постановкой задачи для ALS на explicit feedback:**\n",
    "\n",
    "* Bell, R.M. and Koren, Y., 2007, October. Scalable collaborative filtering with jointly derived neighborhood interpolation weights. In Seventh IEEE international conference on data mining (ICDM 2007) (pp. 43-52). IEEE.\n",
    "\n",
    "**Оригинальная статья с ALS для implicit данных, которая стала более известной:**\n",
    "\n",
    "* Hu, Y., Koren, Y. and Volinsky, C., 2008, December. Collaborative filtering for implicit feedback datasets. In 2008 Eighth IEEE international conference on data mining (pp. 263-272). Ieee.\n"
   ]
  },
  {
   "cell_type": "code",
   "execution_count": null,
   "metadata": {
    "id": "7cDRmFLs4DnT"
   },
   "outputs": [],
   "source": [
    "# Ваш код здесь"
   ]
  }
 ],
 "metadata": {
  "colab": {
   "provenance": []
  },
  "kernelspec": {
   "display_name": "Python 3 (ipykernel)",
   "language": "python",
   "name": "python3"
  },
  "language_info": {
   "codemirror_mode": {
    "name": "ipython",
    "version": 3
   },
   "file_extension": ".py",
   "mimetype": "text/x-python",
   "name": "python",
   "nbconvert_exporter": "python",
   "pygments_lexer": "ipython3",
   "version": "3.9.12"
  }
 },
 "nbformat": 4,
 "nbformat_minor": 4
}
